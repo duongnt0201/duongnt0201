{
  "cells": [
    {
      "cell_type": "markdown",
      "metadata": {
        "id": "view-in-github",
        "colab_type": "text"
      },
      "source": [
        "<a href=\"https://colab.research.google.com/github/duongnt0201/duongnt0201/blob/main/%5BBlueStars%5D_Auto_B%C3%A1o_C%C3%A1o_K%E1%BA%BF_To%C3%A1n_Daily.ipynb\" target=\"_parent\"><img src=\"https://colab.research.google.com/assets/colab-badge.svg\" alt=\"Open In Colab\"/></a>"
      ]
    },
    {
      "cell_type": "markdown",
      "metadata": {
        "id": "pwXZpUnetvc1"
      },
      "source": [
        "# **Cách Thực Hiện Auto Làm Báo Cáo Kế Toán**\n",
        "*   B1: Tải các báo cáo SP, SD, SB về chung một file excel, để riêng ở từng sheet\n",
        "\n",
        "*   B2: Đổi tên Sheet: Đổi tên các Sheet thành \"SP\", \"SD\" và \"SB\". Ví dụ sheet1 chứa data của SP thì đổi thành \"SP\"\n",
        "\n",
        "*   B3: Lưu file lại, và bấm tổ hợp phím **Ctrl + F9**, hoặc bấm **Runtime** trên thanh công cụ của file này chọn **Run all**\n",
        "\n",
        "***Lưu Ý***:\n",
        "*   Đoạn code sẽ tự động chạy và tải về kết quả, nếu không có kết quả tải về thì đoạn code đã bị lỗi, cần check lại các bước đã làm đúng hay chưa. Thời gian chạy code khoảng 20s\n",
        "\n",
        "*   Nếu chẳng may xóa một đoạn code nào đó, reload lại trang này để khôi phục code\n",
        "\n",
        "*   Phải đăng nhập google drive mới có thể chạy Run all\n",
        "\n",
        "*   Setting ngôn ngữ trên Google Sheet phải chuyển sang ***Hoa Kỳ*** thì khi paste từ excel lên mới không bị lỗi format\n",
        "\n"
      ]
    },
    {
      "cell_type": "code",
      "execution_count": null,
      "metadata": {
        "id": "uB5UqNUHlPA1"
      },
      "outputs": [],
      "source": [
        "import pandas as pd\n",
        "import numpy as np\n",
        "from google.colab import files\n",
        "import io"
      ]
    },
    {
      "cell_type": "code",
      "execution_count": null,
      "metadata": {
        "colab": {
          "base_uri": "https://localhost:8080/",
          "height": 73
        },
        "id": "fyPU2zXrl0GP",
        "outputId": "c3f65ed2-a8f1-4a98-f886-4c9ae42924ea"
      },
      "outputs": [
        {
          "output_type": "display_data",
          "data": {
            "text/plain": [
              "<IPython.core.display.HTML object>"
            ],
            "text/html": [
              "\n",
              "     <input type=\"file\" id=\"files-5589978f-7299-48e0-aa08-599a46b6548a\" name=\"files[]\" multiple disabled\n",
              "        style=\"border:none\" />\n",
              "     <output id=\"result-5589978f-7299-48e0-aa08-599a46b6548a\">\n",
              "      Upload widget is only available when the cell has been executed in the\n",
              "      current browser session. Please rerun this cell to enable.\n",
              "      </output>\n",
              "      <script>// Copyright 2017 Google LLC\n",
              "//\n",
              "// Licensed under the Apache License, Version 2.0 (the \"License\");\n",
              "// you may not use this file except in compliance with the License.\n",
              "// You may obtain a copy of the License at\n",
              "//\n",
              "//      http://www.apache.org/licenses/LICENSE-2.0\n",
              "//\n",
              "// Unless required by applicable law or agreed to in writing, software\n",
              "// distributed under the License is distributed on an \"AS IS\" BASIS,\n",
              "// WITHOUT WARRANTIES OR CONDITIONS OF ANY KIND, either express or implied.\n",
              "// See the License for the specific language governing permissions and\n",
              "// limitations under the License.\n",
              "\n",
              "/**\n",
              " * @fileoverview Helpers for google.colab Python module.\n",
              " */\n",
              "(function(scope) {\n",
              "function span(text, styleAttributes = {}) {\n",
              "  const element = document.createElement('span');\n",
              "  element.textContent = text;\n",
              "  for (const key of Object.keys(styleAttributes)) {\n",
              "    element.style[key] = styleAttributes[key];\n",
              "  }\n",
              "  return element;\n",
              "}\n",
              "\n",
              "// Max number of bytes which will be uploaded at a time.\n",
              "const MAX_PAYLOAD_SIZE = 100 * 1024;\n",
              "\n",
              "function _uploadFiles(inputId, outputId) {\n",
              "  const steps = uploadFilesStep(inputId, outputId);\n",
              "  const outputElement = document.getElementById(outputId);\n",
              "  // Cache steps on the outputElement to make it available for the next call\n",
              "  // to uploadFilesContinue from Python.\n",
              "  outputElement.steps = steps;\n",
              "\n",
              "  return _uploadFilesContinue(outputId);\n",
              "}\n",
              "\n",
              "// This is roughly an async generator (not supported in the browser yet),\n",
              "// where there are multiple asynchronous steps and the Python side is going\n",
              "// to poll for completion of each step.\n",
              "// This uses a Promise to block the python side on completion of each step,\n",
              "// then passes the result of the previous step as the input to the next step.\n",
              "function _uploadFilesContinue(outputId) {\n",
              "  const outputElement = document.getElementById(outputId);\n",
              "  const steps = outputElement.steps;\n",
              "\n",
              "  const next = steps.next(outputElement.lastPromiseValue);\n",
              "  return Promise.resolve(next.value.promise).then((value) => {\n",
              "    // Cache the last promise value to make it available to the next\n",
              "    // step of the generator.\n",
              "    outputElement.lastPromiseValue = value;\n",
              "    return next.value.response;\n",
              "  });\n",
              "}\n",
              "\n",
              "/**\n",
              " * Generator function which is called between each async step of the upload\n",
              " * process.\n",
              " * @param {string} inputId Element ID of the input file picker element.\n",
              " * @param {string} outputId Element ID of the output display.\n",
              " * @return {!Iterable<!Object>} Iterable of next steps.\n",
              " */\n",
              "function* uploadFilesStep(inputId, outputId) {\n",
              "  const inputElement = document.getElementById(inputId);\n",
              "  inputElement.disabled = false;\n",
              "\n",
              "  const outputElement = document.getElementById(outputId);\n",
              "  outputElement.innerHTML = '';\n",
              "\n",
              "  const pickedPromise = new Promise((resolve) => {\n",
              "    inputElement.addEventListener('change', (e) => {\n",
              "      resolve(e.target.files);\n",
              "    });\n",
              "  });\n",
              "\n",
              "  const cancel = document.createElement('button');\n",
              "  inputElement.parentElement.appendChild(cancel);\n",
              "  cancel.textContent = 'Cancel upload';\n",
              "  const cancelPromise = new Promise((resolve) => {\n",
              "    cancel.onclick = () => {\n",
              "      resolve(null);\n",
              "    };\n",
              "  });\n",
              "\n",
              "  // Wait for the user to pick the files.\n",
              "  const files = yield {\n",
              "    promise: Promise.race([pickedPromise, cancelPromise]),\n",
              "    response: {\n",
              "      action: 'starting',\n",
              "    }\n",
              "  };\n",
              "\n",
              "  cancel.remove();\n",
              "\n",
              "  // Disable the input element since further picks are not allowed.\n",
              "  inputElement.disabled = true;\n",
              "\n",
              "  if (!files) {\n",
              "    return {\n",
              "      response: {\n",
              "        action: 'complete',\n",
              "      }\n",
              "    };\n",
              "  }\n",
              "\n",
              "  for (const file of files) {\n",
              "    const li = document.createElement('li');\n",
              "    li.append(span(file.name, {fontWeight: 'bold'}));\n",
              "    li.append(span(\n",
              "        `(${file.type || 'n/a'}) - ${file.size} bytes, ` +\n",
              "        `last modified: ${\n",
              "            file.lastModifiedDate ? file.lastModifiedDate.toLocaleDateString() :\n",
              "                                    'n/a'} - `));\n",
              "    const percent = span('0% done');\n",
              "    li.appendChild(percent);\n",
              "\n",
              "    outputElement.appendChild(li);\n",
              "\n",
              "    const fileDataPromise = new Promise((resolve) => {\n",
              "      const reader = new FileReader();\n",
              "      reader.onload = (e) => {\n",
              "        resolve(e.target.result);\n",
              "      };\n",
              "      reader.readAsArrayBuffer(file);\n",
              "    });\n",
              "    // Wait for the data to be ready.\n",
              "    let fileData = yield {\n",
              "      promise: fileDataPromise,\n",
              "      response: {\n",
              "        action: 'continue',\n",
              "      }\n",
              "    };\n",
              "\n",
              "    // Use a chunked sending to avoid message size limits. See b/62115660.\n",
              "    let position = 0;\n",
              "    do {\n",
              "      const length = Math.min(fileData.byteLength - position, MAX_PAYLOAD_SIZE);\n",
              "      const chunk = new Uint8Array(fileData, position, length);\n",
              "      position += length;\n",
              "\n",
              "      const base64 = btoa(String.fromCharCode.apply(null, chunk));\n",
              "      yield {\n",
              "        response: {\n",
              "          action: 'append',\n",
              "          file: file.name,\n",
              "          data: base64,\n",
              "        },\n",
              "      };\n",
              "\n",
              "      let percentDone = fileData.byteLength === 0 ?\n",
              "          100 :\n",
              "          Math.round((position / fileData.byteLength) * 100);\n",
              "      percent.textContent = `${percentDone}% done`;\n",
              "\n",
              "    } while (position < fileData.byteLength);\n",
              "  }\n",
              "\n",
              "  // All done.\n",
              "  yield {\n",
              "    response: {\n",
              "      action: 'complete',\n",
              "    }\n",
              "  };\n",
              "}\n",
              "\n",
              "scope.google = scope.google || {};\n",
              "scope.google.colab = scope.google.colab || {};\n",
              "scope.google.colab._files = {\n",
              "  _uploadFiles,\n",
              "  _uploadFilesContinue,\n",
              "};\n",
              "})(self);\n",
              "</script> "
            ]
          },
          "metadata": {}
        },
        {
          "output_type": "stream",
          "name": "stdout",
          "text": [
            "Saving Raw data CA Daily.xlsx to Raw data CA Daily.xlsx\n"
          ]
        }
      ],
      "source": [
        "uploaded = files.upload()"
      ]
    },
    {
      "cell_type": "code",
      "execution_count": null,
      "metadata": {
        "id": "fvs579EZqf3q"
      },
      "outputs": [],
      "source": [
        "dfs = {}\n",
        "\n",
        "for file_name in uploaded.keys():\n",
        "    xls = pd.ExcelFile(file_name)\n",
        "    sheet_names = xls.sheet_names\n",
        "\n",
        "    for sheet_name in sheet_names:\n",
        "        dfs[sheet_name] = pd.read_excel(file_name, sheet_name=sheet_name)\n",
        "\n",
        "SP = dfs['Sponsored_Products_Advertised_p']\n",
        "SD = dfs['Sponsored_Display_Advertised_pr']\n",
        "SB = dfs['Sheet2']"
      ]
    },
    {
      "cell_type": "code",
      "execution_count": null,
      "metadata": {
        "id": "L-xjF3UzrejJ"
      },
      "outputs": [],
      "source": [
        "SP_data = SP.groupby(['Date', 'Advertised SKU']).agg({'Spend':'sum', '7 Day Total Sales ':'sum'})\n",
        "SP_data.rename(columns={'Advertised SKU':'SKU', \"Spend\":\"Spend\", \"7 Day Total Sales \":\"Sales\"},inplace = True)\n",
        "SP_data = SP_data.reset_index()"
      ]
    },
    {
      "cell_type": "code",
      "execution_count": null,
      "metadata": {
        "id": "micqzajOtJxJ"
      },
      "outputs": [],
      "source": [
        "SD_data = SD.groupby(['Date', 'Advertised SKU']).agg({'Spend':'sum', '14 Day Total Sales ':'sum'})\n",
        "SD_data.rename(columns={'Advertised SKU':'SKU', \"Spend\":\"Spend\", \"14 Day Total Sales \":\"Sales\"},inplace = True)\n",
        "SD_data = SD_data.reset_index()"
      ]
    },
    {
      "cell_type": "code",
      "execution_count": null,
      "metadata": {
        "id": "nHQFMu3FKHeT"
      },
      "outputs": [],
      "source": [
        "product_id = pd.read_html('https://docs.google.com/spreadsheets/d/e/2PACX-1vQKItZA2bNZCY2yD52UEunCjkuq8e9yDuHLQzLqbOvLy13GeJWLWFmujTCRbrBVNA/pubhtml?gid=678803432&single=true', skiprows=1)[0]\n",
        "product_id = product_id.iloc[1:, 1:]"
      ]
    },
    {
      "cell_type": "code",
      "execution_count": null,
      "metadata": {
        "id": "uTuOe7XZKIWj"
      },
      "outputs": [],
      "source": [
        "product_id['SKU'] = product_id['SKU'].astype(str)\n",
        "def get_matching_sku(campaign_name):\n",
        "    for sku in product_id['SKU']:\n",
        "        # Ensure campaign_name is a string before the 'in' check\n",
        "        if isinstance(campaign_name, str) and sku in campaign_name:\n",
        "            return sku\n",
        "    # Return None if no match is found or if campaign_name is not a string\n",
        "    return None\n",
        "\n",
        "# Convert the 'Campaign' column to string type, handling potential non-string values\n",
        "SB['Campaign'] = SB['Campaign'].astype(str)\n",
        "\n",
        "SB['Advertised SKU'] = SB['Campaign'].apply(get_matching_sku)"
      ]
    },
    {
      "cell_type": "code",
      "execution_count": null,
      "metadata": {
        "id": "0pvY6bdAK-2n",
        "outputId": "56b43133-927e-4ca3-e5fe-8ee3d12073dc",
        "colab": {
          "base_uri": "https://localhost:8080/"
        }
      },
      "outputs": [
        {
          "output_type": "stream",
          "name": "stdout",
          "text": [
            "Dữ liệu hoàn chỉnh\n"
          ]
        }
      ],
      "source": [
        "campaigns_without_sku = SB.loc[SB['Advertised SKU'] ==  'None','Campaign']\n",
        "\n",
        "unique_campaigns_without_sku = campaigns_without_sku.drop_duplicates().tolist()\n",
        "\n",
        "if unique_campaigns_without_sku:\n",
        "    print(\"Các campaigns sau chưa có SKU trong danh sách sản phẩm:\")\n",
        "    print(unique_campaigns_without_sku)\n",
        "else:\n",
        "    print(\"Dữ liệu hoàn chỉnh\")"
      ]
    },
    {
      "cell_type": "code",
      "execution_count": null,
      "metadata": {
        "id": "h3BXS-HxyPjh"
      },
      "outputs": [],
      "source": [
        "# SB_data['Date'] = pd.to_datetime(SB_data['Date'], format='%Y%m%d').dt.strftime('%m/%d/%Y')\n",
        "SB_data = SB.groupby(['Date', 'Advertised SKU']).agg({'Spend':'sum', 'Sales':'sum'})\n",
        "SB_data.rename(columns={'Advertised SKU':'SKU', \"Spend\":\"Spend\", \"Sales\":\"Sales\"},inplace = True)\n",
        "SB_data = SB_data.reset_index()"
      ]
    },
    {
      "cell_type": "code",
      "execution_count": null,
      "metadata": {
        "id": "N0yljMgWyXYB"
      },
      "outputs": [],
      "source": [
        "data = pd.concat([SP_data, SD_data, SB_data])\n",
        "data = data.reset_index()\n",
        "data['Date'] = pd.to_datetime(data['Date']).dt.strftime('%m/%d/%Y')"
      ]
    },
    {
      "cell_type": "code",
      "execution_count": null,
      "metadata": {
        "id": "vO2vIxt30dcx"
      },
      "outputs": [],
      "source": [
        "# Remove non-numeric characters from 'Sales' column and convert to float\n",
        "data['Sales'] = data['Sales'].astype(str).str.replace(r'[^\\d.]', '', regex=True)\n",
        "data['Sales'] = pd.to_numeric(data['Sales'], errors='coerce')\n",
        "\n",
        "# Remove non-numeric characters from 'Spend' column and convert to float\n",
        "data['Spend'] = data['Spend'].astype(str).str.replace(r'[^\\d.]', '', regex=True)\n",
        "data['Spend'] = pd.to_numeric(data['Spend'], errors='coerce')\n",
        "\n",
        "\n",
        "final_data = data.groupby(['Date','Advertised SKU']).agg({'Spend':'sum', 'Sales':'sum'})\n",
        "final_data = final_data.astype({'Spend':'float', 'Sales':'float'})\n",
        "final_data = final_data.reset_index()"
      ]
    },
    {
      "cell_type": "code",
      "execution_count": null,
      "metadata": {
        "id": "NSEqlfJKB42y",
        "outputId": "77d81b3c-a199-4adf-c44d-77e298da3aba",
        "colab": {
          "base_uri": "https://localhost:8080/",
          "height": 17
        }
      },
      "outputs": [
        {
          "output_type": "display_data",
          "data": {
            "text/plain": [
              "<IPython.core.display.Javascript object>"
            ],
            "application/javascript": [
              "\n",
              "    async function download(id, filename, size) {\n",
              "      if (!google.colab.kernel.accessAllowed) {\n",
              "        return;\n",
              "      }\n",
              "      const div = document.createElement('div');\n",
              "      const label = document.createElement('label');\n",
              "      label.textContent = `Downloading \"${filename}\": `;\n",
              "      div.appendChild(label);\n",
              "      const progress = document.createElement('progress');\n",
              "      progress.max = size;\n",
              "      div.appendChild(progress);\n",
              "      document.body.appendChild(div);\n",
              "\n",
              "      const buffers = [];\n",
              "      let downloaded = 0;\n",
              "\n",
              "      const channel = await google.colab.kernel.comms.open(id);\n",
              "      // Send a message to notify the kernel that we're ready.\n",
              "      channel.send({})\n",
              "\n",
              "      for await (const message of channel.messages) {\n",
              "        // Send a message to notify the kernel that we're ready.\n",
              "        channel.send({})\n",
              "        if (message.buffers) {\n",
              "          for (const buffer of message.buffers) {\n",
              "            buffers.push(buffer);\n",
              "            downloaded += buffer.byteLength;\n",
              "            progress.value = downloaded;\n",
              "          }\n",
              "        }\n",
              "      }\n",
              "      const blob = new Blob(buffers, {type: 'application/binary'});\n",
              "      const a = document.createElement('a');\n",
              "      a.href = window.URL.createObjectURL(blob);\n",
              "      a.download = filename;\n",
              "      div.appendChild(a);\n",
              "      a.click();\n",
              "      div.remove();\n",
              "    }\n",
              "  "
            ]
          },
          "metadata": {}
        },
        {
          "output_type": "display_data",
          "data": {
            "text/plain": [
              "<IPython.core.display.Javascript object>"
            ],
            "application/javascript": [
              "download(\"download_a4338413-c57c-4477-9639-4b52786e350e\", \"Canada Daily 2025.06.19.xlsx\", 33360)"
            ]
          },
          "metadata": {}
        }
      ],
      "source": [
        "# Assume store name is in the 'Country' column; get the first unique value or use any specific logic\n",
        "store = SB['Country'].iloc[0]  # Adjust this if you need to filter or select a specific row\n",
        "\n",
        "# Date\n",
        "date = (pd.Timestamp.now() - pd.Timedelta(days=1)).strftime('%Y.%m.%d')  #  date\n",
        "\n",
        "# Create dynamic file name\n",
        "file_name = f\"{store} Daily {date}.xlsx\"\n",
        "\n",
        "# Export to Excel with dynamic file name\n",
        "final_data.to_excel(file_name, index=False)\n",
        "\n",
        "# Download the file\n",
        "files.download(file_name)"
      ]
    },
    {
      "cell_type": "code",
      "source": [],
      "metadata": {
        "id": "n6aYr3FV8ajd"
      },
      "execution_count": null,
      "outputs": []
    }
  ],
  "metadata": {
    "colab": {
      "provenance": [],
      "include_colab_link": true
    },
    "kernelspec": {
      "display_name": "Python 3",
      "name": "python3"
    },
    "language_info": {
      "name": "python"
    }
  },
  "nbformat": 4,
  "nbformat_minor": 0
}